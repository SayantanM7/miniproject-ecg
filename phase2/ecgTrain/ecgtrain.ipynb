{
 "cells": [
  {
   "cell_type": "code",
   "execution_count": 1,
   "id": "eabd5ee0-dbe5-43d2-a602-2771756e8403",
   "metadata": {},
   "outputs": [
    {
     "name": "stdout",
     "output_type": "stream",
     "text": [
      "Found 48 records: ['100', '101', '102', '103', '104', '105', '106', '107', '108', '109', '111', '112', '113', '114', '115', '116', '117', '118', '119', '121', '122', '123', '124', '200', '201', '202', '203', '205', '207', '208', '209', '210', '212', '213', '214', '215', '217', '219', '220', '221', '222', '223', '228', '230', '231', '232', '233', '234']\n"
     ]
    }
   ],
   "source": [
    "import wfdb\n",
    "import os\n",
    "\n",
    "data_path = 'mitbih'  # replace with your actual path\n",
    "record_ids = []\n",
    "\n",
    "# Get all .dat files and extract record names (without extension)\n",
    "for file in os.listdir(data_path):\n",
    "    if file.endswith('.dat'):\n",
    "        record_ids.append(file.split('.')[0])\n",
    "\n",
    "record_ids = sorted(list(set(record_ids)))  # Remove duplicates and sort\n",
    "\n",
    "print(f\"Found {len(record_ids)} records:\", record_ids)\n"
   ]
  },
  {
   "cell_type": "code",
   "execution_count": 2,
   "id": "89694a98-767a-4e19-9456-fd062c36dd7d",
   "metadata": {},
   "outputs": [
    {
     "name": "stdout",
     "output_type": "stream",
     "text": [
      "Collecting wfdb\n",
      "  Downloading wfdb-4.3.0-py3-none-any.whl.metadata (3.8 kB)\n",
      "Collecting aiohttp>=3.10.11 (from wfdb)\n",
      "  Downloading aiohttp-3.11.18-cp310-cp310-manylinux_2_17_x86_64.manylinux2014_x86_64.whl.metadata (7.7 kB)\n",
      "Requirement already satisfied: fsspec>=2023.10.0 in /home/sayantan/anaconda3/envs/ml/lib/python3.10/site-packages (from wfdb) (2025.3.2)\n",
      "Requirement already satisfied: matplotlib>=3.2.2 in /home/sayantan/anaconda3/envs/ml/lib/python3.10/site-packages (from wfdb) (3.10.0)\n",
      "Requirement already satisfied: numpy>=1.26.4 in /home/sayantan/anaconda3/envs/ml/lib/python3.10/site-packages (from wfdb) (1.26.4)\n",
      "Requirement already satisfied: pandas>=2.2.3 in /home/sayantan/anaconda3/envs/ml/lib/python3.10/site-packages (from wfdb) (2.2.3)\n",
      "Requirement already satisfied: requests>=2.8.1 in /home/sayantan/anaconda3/envs/ml/lib/python3.10/site-packages (from wfdb) (2.32.3)\n",
      "Requirement already satisfied: scipy>=1.13.0 in /home/sayantan/anaconda3/envs/ml/lib/python3.10/site-packages (from wfdb) (1.15.2)\n",
      "Collecting soundfile>=0.10.0 (from wfdb)\n",
      "  Downloading soundfile-0.13.1-py2.py3-none-manylinux_2_28_x86_64.whl.metadata (16 kB)\n",
      "Collecting aiohappyeyeballs>=2.3.0 (from aiohttp>=3.10.11->wfdb)\n",
      "  Downloading aiohappyeyeballs-2.6.1-py3-none-any.whl.metadata (5.9 kB)\n",
      "Collecting aiosignal>=1.1.2 (from aiohttp>=3.10.11->wfdb)\n",
      "  Downloading aiosignal-1.3.2-py2.py3-none-any.whl.metadata (3.8 kB)\n",
      "Collecting async-timeout<6.0,>=4.0 (from aiohttp>=3.10.11->wfdb)\n",
      "  Downloading async_timeout-5.0.1-py3-none-any.whl.metadata (5.1 kB)\n",
      "Requirement already satisfied: attrs>=17.3.0 in /home/sayantan/anaconda3/envs/ml/lib/python3.10/site-packages (from aiohttp>=3.10.11->wfdb) (24.3.0)\n",
      "Collecting frozenlist>=1.1.1 (from aiohttp>=3.10.11->wfdb)\n",
      "  Downloading frozenlist-1.6.0-cp310-cp310-manylinux_2_5_x86_64.manylinux1_x86_64.manylinux_2_17_x86_64.manylinux2014_x86_64.whl.metadata (16 kB)\n",
      "Collecting multidict<7.0,>=4.5 (from aiohttp>=3.10.11->wfdb)\n",
      "  Downloading multidict-6.4.3-cp310-cp310-manylinux_2_17_x86_64.manylinux2014_x86_64.whl.metadata (5.3 kB)\n",
      "Collecting propcache>=0.2.0 (from aiohttp>=3.10.11->wfdb)\n",
      "  Downloading propcache-0.3.1-cp310-cp310-manylinux_2_17_x86_64.manylinux2014_x86_64.whl.metadata (10 kB)\n",
      "Collecting yarl<2.0,>=1.17.0 (from aiohttp>=3.10.11->wfdb)\n",
      "  Downloading yarl-1.20.0-cp310-cp310-manylinux_2_17_x86_64.manylinux2014_x86_64.whl.metadata (72 kB)\n",
      "Requirement already satisfied: contourpy>=1.0.1 in /home/sayantan/anaconda3/envs/ml/lib/python3.10/site-packages (from matplotlib>=3.2.2->wfdb) (1.3.1)\n",
      "Requirement already satisfied: cycler>=0.10 in /home/sayantan/anaconda3/envs/ml/lib/python3.10/site-packages (from matplotlib>=3.2.2->wfdb) (0.11.0)\n",
      "Requirement already satisfied: fonttools>=4.22.0 in /home/sayantan/anaconda3/envs/ml/lib/python3.10/site-packages (from matplotlib>=3.2.2->wfdb) (4.55.3)\n",
      "Requirement already satisfied: kiwisolver>=1.3.1 in /home/sayantan/anaconda3/envs/ml/lib/python3.10/site-packages (from matplotlib>=3.2.2->wfdb) (1.4.8)\n",
      "Requirement already satisfied: packaging>=20.0 in /home/sayantan/anaconda3/envs/ml/lib/python3.10/site-packages (from matplotlib>=3.2.2->wfdb) (24.2)\n",
      "Requirement already satisfied: pillow>=8 in /home/sayantan/anaconda3/envs/ml/lib/python3.10/site-packages (from matplotlib>=3.2.2->wfdb) (11.1.0)\n",
      "Requirement already satisfied: pyparsing>=2.3.1 in /home/sayantan/anaconda3/envs/ml/lib/python3.10/site-packages (from matplotlib>=3.2.2->wfdb) (3.2.0)\n",
      "Requirement already satisfied: python-dateutil>=2.7 in /home/sayantan/anaconda3/envs/ml/lib/python3.10/site-packages (from matplotlib>=3.2.2->wfdb) (2.9.0.post0)\n",
      "Requirement already satisfied: pytz>=2020.1 in /home/sayantan/anaconda3/envs/ml/lib/python3.10/site-packages (from pandas>=2.2.3->wfdb) (2024.1)\n",
      "Requirement already satisfied: tzdata>=2022.7 in /home/sayantan/anaconda3/envs/ml/lib/python3.10/site-packages (from pandas>=2.2.3->wfdb) (2023.3)\n",
      "Requirement already satisfied: charset-normalizer<4,>=2 in /home/sayantan/anaconda3/envs/ml/lib/python3.10/site-packages (from requests>=2.8.1->wfdb) (3.3.2)\n",
      "Requirement already satisfied: idna<4,>=2.5 in /home/sayantan/anaconda3/envs/ml/lib/python3.10/site-packages (from requests>=2.8.1->wfdb) (3.7)\n",
      "Requirement already satisfied: urllib3<3,>=1.21.1 in /home/sayantan/anaconda3/envs/ml/lib/python3.10/site-packages (from requests>=2.8.1->wfdb) (2.3.0)\n",
      "Requirement already satisfied: certifi>=2017.4.17 in /home/sayantan/anaconda3/envs/ml/lib/python3.10/site-packages (from requests>=2.8.1->wfdb) (2025.4.26)\n",
      "Requirement already satisfied: cffi>=1.0 in /home/sayantan/anaconda3/envs/ml/lib/python3.10/site-packages (from soundfile>=0.10.0->wfdb) (1.17.1)\n",
      "Requirement already satisfied: pycparser in /home/sayantan/anaconda3/envs/ml/lib/python3.10/site-packages (from cffi>=1.0->soundfile>=0.10.0->wfdb) (2.21)\n",
      "Requirement already satisfied: typing-extensions>=4.1.0 in /home/sayantan/anaconda3/envs/ml/lib/python3.10/site-packages (from multidict<7.0,>=4.5->aiohttp>=3.10.11->wfdb) (4.12.2)\n",
      "Requirement already satisfied: six>=1.5 in /home/sayantan/anaconda3/envs/ml/lib/python3.10/site-packages (from python-dateutil>=2.7->matplotlib>=3.2.2->wfdb) (1.17.0)\n",
      "Downloading wfdb-4.3.0-py3-none-any.whl (163 kB)\n",
      "Downloading aiohttp-3.11.18-cp310-cp310-manylinux_2_17_x86_64.manylinux2014_x86_64.whl (1.6 MB)\n",
      "\u001b[2K   \u001b[38;2;114;156;31m━━━━━━━━━━━━━━━━━━━━━━━━━━━━━━━━━━━━━━━━\u001b[0m \u001b[32m1.6/1.6 MB\u001b[0m \u001b[31m5.6 MB/s\u001b[0m eta \u001b[36m0:00:00\u001b[0m MB/s\u001b[0m eta \u001b[36m0:00:01\u001b[0m\n",
      "\u001b[?25hDownloading soundfile-0.13.1-py2.py3-none-manylinux_2_28_x86_64.whl (1.3 MB)\n",
      "\u001b[2K   \u001b[38;2;114;156;31m━━━━━━━━━━━━━━━━━━━━━━━━━━━━━━━━━━━━━━━━\u001b[0m \u001b[32m1.3/1.3 MB\u001b[0m \u001b[31m5.2 MB/s\u001b[0m eta \u001b[36m0:00:00\u001b[0m[31m5.9 MB/s\u001b[0m eta \u001b[36m0:00:01\u001b[0m\n",
      "\u001b[?25hDownloading aiohappyeyeballs-2.6.1-py3-none-any.whl (15 kB)\n",
      "Downloading aiosignal-1.3.2-py2.py3-none-any.whl (7.6 kB)\n",
      "Downloading async_timeout-5.0.1-py3-none-any.whl (6.2 kB)\n",
      "Downloading frozenlist-1.6.0-cp310-cp310-manylinux_2_5_x86_64.manylinux1_x86_64.manylinux_2_17_x86_64.manylinux2014_x86_64.whl (287 kB)\n",
      "Downloading multidict-6.4.3-cp310-cp310-manylinux_2_17_x86_64.manylinux2014_x86_64.whl (219 kB)\n",
      "Downloading propcache-0.3.1-cp310-cp310-manylinux_2_17_x86_64.manylinux2014_x86_64.whl (206 kB)\n",
      "Downloading yarl-1.20.0-cp310-cp310-manylinux_2_17_x86_64.manylinux2014_x86_64.whl (333 kB)\n",
      "Installing collected packages: propcache, multidict, frozenlist, async-timeout, aiohappyeyeballs, yarl, soundfile, aiosignal, aiohttp, wfdb\n",
      "Successfully installed aiohappyeyeballs-2.6.1 aiohttp-3.11.18 aiosignal-1.3.2 async-timeout-5.0.1 frozenlist-1.6.0 multidict-6.4.3 propcache-0.3.1 soundfile-0.13.1 wfdb-4.3.0 yarl-1.20.0\n"
     ]
    }
   ],
   "source": [
    "!pip install wfdb"
   ]
  },
  {
   "cell_type": "code",
   "execution_count": 2,
   "id": "fbe281a6-7010-4195-94bf-d7575f66a72c",
   "metadata": {},
   "outputs": [],
   "source": [
    "import numpy as np\n",
    "\n",
    "X = []\n",
    "y = []\n",
    "\n",
    "for rec_id in record_ids:\n",
    "    try:\n",
    "        record = wfdb.rdrecord(os.path.join(data_path, rec_id))\n",
    "        annotation = wfdb.rdann(os.path.join(data_path, rec_id), 'atr')\n",
    "\n",
    "        signal = record.p_signal[:, 0]  # use Lead I\n",
    "        ann_samples = annotation.sample\n",
    "        ann_symbols = annotation.symbol\n",
    "\n",
    "        for i, sample in enumerate(ann_samples):\n",
    "            if sample - 90 < 0 or sample + 90 > len(signal):\n",
    "                continue\n",
    "            beat_segment = signal[sample - 90: sample + 90]\n",
    "\n",
    "            # Binary labeling: 0 = normal, 1 = abnormal\n",
    "            label = 0 if ann_symbols[i] == 'N' else 1\n",
    "\n",
    "            X.append(beat_segment)\n",
    "            y.append(label)\n",
    "\n",
    "    except Exception as e:\n",
    "        print(f\"Skipping record {rec_id}: {e}\")\n",
    "\n",
    "X = np.array(X).reshape(-1, 180, 1)\n",
    "y = np.array(y)\n"
   ]
  },
  {
   "cell_type": "code",
   "execution_count": 3,
   "id": "13c87940-32e8-4b3d-8690-fb50dbd1141a",
   "metadata": {},
   "outputs": [
    {
     "data": {
      "text/plain": [
       "array([[[-0.305],\n",
       "        [-0.31 ],\n",
       "        [-0.3  ],\n",
       "        ...,\n",
       "        [-0.43 ],\n",
       "        [-0.42 ],\n",
       "        [-0.43 ]],\n",
       "\n",
       "       [[-0.33 ],\n",
       "        [-0.345],\n",
       "        [-0.345],\n",
       "        ...,\n",
       "        [-0.42 ],\n",
       "        [-0.425],\n",
       "        [-0.415]],\n",
       "\n",
       "       [[-0.375],\n",
       "        [-0.385],\n",
       "        [-0.355],\n",
       "        ...,\n",
       "        [-0.365],\n",
       "        [-0.385],\n",
       "        [-0.38 ]],\n",
       "\n",
       "       ...,\n",
       "\n",
       "       [[-0.275],\n",
       "        [-0.27 ],\n",
       "        [-0.27 ],\n",
       "        ...,\n",
       "        [-0.26 ],\n",
       "        [-0.265],\n",
       "        [-0.285]],\n",
       "\n",
       "       [[-0.235],\n",
       "        [-0.225],\n",
       "        [-0.205],\n",
       "        ...,\n",
       "        [-0.215],\n",
       "        [-0.225],\n",
       "        [-0.225]],\n",
       "\n",
       "       [[-0.185],\n",
       "        [-0.19 ],\n",
       "        [-0.185],\n",
       "        ...,\n",
       "        [-0.285],\n",
       "        [-0.29 ],\n",
       "        [-0.285]]])"
      ]
     },
     "execution_count": 3,
     "metadata": {},
     "output_type": "execute_result"
    }
   ],
   "source": [
    "X"
   ]
  },
  {
   "cell_type": "code",
   "execution_count": 4,
   "id": "52784db6-3bc1-4360-b1c0-09b53ceb0046",
   "metadata": {},
   "outputs": [
    {
     "data": {
      "text/plain": [
       "array([0, 0, 0, ..., 0, 0, 0])"
      ]
     },
     "execution_count": 4,
     "metadata": {},
     "output_type": "execute_result"
    }
   ],
   "source": [
    "y"
   ]
  },
  {
   "cell_type": "code",
   "execution_count": 5,
   "id": "f737bd71-1df5-4c90-9a99-435fdf60d560",
   "metadata": {},
   "outputs": [
    {
     "name": "stdout",
     "output_type": "stream",
     "text": [
      "X shape: (112579, 180, 1)\n",
      "y shape: (112579,)\n",
      "Example label: 0\n",
      "Example signal segment: [-0.305 -0.31  -0.3   -0.305 -0.29  -0.3   -0.3   -0.305 -0.305 -0.29 ]\n"
     ]
    }
   ],
   "source": [
    "print(\"X shape:\", X.shape)\n",
    "print(\"y shape:\", y.shape)\n",
    "\n",
    "print(\"Example label:\", y[0])\n",
    "print(\"Example signal segment:\", X[0].flatten()[:10])  # first 10 points\n"
   ]
  },
  {
   "cell_type": "code",
   "execution_count": 6,
   "id": "92be2ee7-d193-41c3-9917-d9d90a70d767",
   "metadata": {},
   "outputs": [
    {
     "name": "stdout",
     "output_type": "stream",
     "text": [
      "       0      1      2      3      4      5      6      7      8      9  ...  \\\n",
      "0 -0.305 -0.310 -0.300 -0.305 -0.290 -0.300 -0.300 -0.305 -0.305 -0.290  ...   \n",
      "1 -0.330 -0.345 -0.345 -0.355 -0.350 -0.340 -0.330 -0.340 -0.340 -0.340  ...   \n",
      "2 -0.375 -0.385 -0.355 -0.360 -0.355 -0.360 -0.360 -0.370 -0.360 -0.345  ...   \n",
      "3 -0.345 -0.345 -0.350 -0.355 -0.345 -0.330 -0.330 -0.335 -0.335 -0.340  ...   \n",
      "4 -0.340 -0.340 -0.340 -0.325 -0.325 -0.325 -0.345 -0.350 -0.340 -0.330  ...   \n",
      "\n",
      "     171    172    173   174    175    176    177    178    179  label  \n",
      "0 -0.410 -0.415 -0.425 -0.42 -0.435 -0.430 -0.430 -0.420 -0.430      0  \n",
      "1 -0.415 -0.405 -0.405 -0.41 -0.415 -0.420 -0.420 -0.425 -0.415      0  \n",
      "2 -0.370 -0.375 -0.385 -0.39 -0.390 -0.375 -0.365 -0.385 -0.380      0  \n",
      "3 -0.425 -0.425 -0.425 -0.42 -0.425 -0.450 -0.445 -0.450 -0.435      0  \n",
      "4 -0.395 -0.395 -0.405 -0.41 -0.425 -0.425 -0.410 -0.410 -0.420      0  \n",
      "\n",
      "[5 rows x 181 columns]\n"
     ]
    }
   ],
   "source": [
    "import pandas as pd\n",
    "\n",
    "# Flatten 180 points into columns\n",
    "df = pd.DataFrame(X.reshape(X.shape[0], 180))\n",
    "df['label'] = y\n",
    "\n",
    "print(df.head())\n"
   ]
  },
  {
   "cell_type": "code",
   "execution_count": 7,
   "id": "49956367-2955-4f8d-89bb-7db5087287ec",
   "metadata": {},
   "outputs": [
    {
     "name": "stdout",
     "output_type": "stream",
     "text": [
      "Total beats: 112579\n",
      "Normal (0): 75033\n",
      "Abnormal (1): 37546\n"
     ]
    }
   ],
   "source": [
    "import numpy as np\n",
    "\n",
    "print(\"Total beats:\", len(y))\n",
    "print(\"Normal (0):\", np.sum(y == 0))\n",
    "print(\"Abnormal (1):\", np.sum(y == 1))\n"
   ]
  },
  {
   "cell_type": "code",
   "execution_count": 10,
   "id": "51eba33c-6179-4c70-915c-f2a895e86ba7",
   "metadata": {},
   "outputs": [
    {
     "name": "stderr",
     "output_type": "stream",
     "text": [
      "2025-05-07 16:56:56.086095: E external/local_xla/xla/stream_executor/cuda/cuda_fft.cc:485] Unable to register cuFFT factory: Attempting to register factory for plugin cuFFT when one has already been registered\n",
      "2025-05-07 16:56:56.112397: E external/local_xla/xla/stream_executor/cuda/cuda_dnn.cc:8454] Unable to register cuDNN factory: Attempting to register factory for plugin cuDNN when one has already been registered\n",
      "2025-05-07 16:56:56.120531: E external/local_xla/xla/stream_executor/cuda/cuda_blas.cc:1452] Unable to register cuBLAS factory: Attempting to register factory for plugin cuBLAS when one has already been registered\n",
      "2025-05-07 16:56:56.216023: I tensorflow/core/platform/cpu_feature_guard.cc:210] This TensorFlow binary is optimized to use available CPU instructions in performance-critical operations.\n",
      "To enable the following instructions: SSE4.1 SSE4.2 AVX AVX2 FMA, in other operations, rebuild TensorFlow with the appropriate compiler flags.\n"
     ]
    }
   ],
   "source": [
    "import tensorflow as tf\n",
    "from tensorflow.keras.models import Sequential\n",
    "from tensorflow.keras.layers import Conv1D, MaxPooling1D, Flatten, Dense, Dropout, BatchNormalization\n",
    "from tensorflow.keras.optimizers import Adam\n",
    "from sklearn.model_selection import train_test_split\n",
    "from sklearn.metrics import classification_report, confusion_matrix\n",
    "import matplotlib.pyplot as plt\n",
    "import numpy as np"
   ]
  },
  {
   "cell_type": "code",
   "execution_count": 11,
   "id": "3145fc34-d330-44b6-8371-821176458660",
   "metadata": {},
   "outputs": [
    {
     "name": "stderr",
     "output_type": "stream",
     "text": [
      "/home/sayantan/anaconda3/envs/ml/lib/python3.10/site-packages/keras/src/layers/convolutional/base_conv.py:107: UserWarning: Do not pass an `input_shape`/`input_dim` argument to a layer. When using Sequential models, prefer using an `Input(shape)` object as the first layer in the model instead.\n",
      "  super().__init__(activity_regularizer=activity_regularizer, **kwargs)\n"
     ]
    },
    {
     "name": "stdout",
     "output_type": "stream",
     "text": [
      "Epoch 1/10\n"
     ]
    },
    {
     "name": "stderr",
     "output_type": "stream",
     "text": [
      "2025-05-07 17:00:16.214160: E external/local_xla/xla/stream_executor/cuda/cuda_driver.cc:266] failed call to cuInit: CUDA_ERROR_NO_DEVICE: no CUDA-capable device is detected\n"
     ]
    },
    {
     "name": "stdout",
     "output_type": "stream",
     "text": [
      "\u001b[1m563/563\u001b[0m \u001b[32m━━━━━━━━━━━━━━━━━━━━\u001b[0m\u001b[37m\u001b[0m \u001b[1m13s\u001b[0m 20ms/step - accuracy: 0.9228 - loss: 0.2253 - val_accuracy: 0.9716 - val_loss: 0.0950\n",
      "Epoch 2/10\n",
      "\u001b[1m563/563\u001b[0m \u001b[32m━━━━━━━━━━━━━━━━━━━━\u001b[0m\u001b[37m\u001b[0m \u001b[1m12s\u001b[0m 22ms/step - accuracy: 0.9715 - loss: 0.0948 - val_accuracy: 0.9745 - val_loss: 0.0809\n",
      "Epoch 3/10\n",
      "\u001b[1m563/563\u001b[0m \u001b[32m━━━━━━━━━━━━━━━━━━━━\u001b[0m\u001b[37m\u001b[0m \u001b[1m12s\u001b[0m 22ms/step - accuracy: 0.9765 - loss: 0.0782 - val_accuracy: 0.9842 - val_loss: 0.0542\n",
      "Epoch 4/10\n",
      "\u001b[1m563/563\u001b[0m \u001b[32m━━━━━━━━━━━━━━━━━━━━\u001b[0m\u001b[37m\u001b[0m \u001b[1m12s\u001b[0m 22ms/step - accuracy: 0.9802 - loss: 0.0671 - val_accuracy: 0.9829 - val_loss: 0.0608\n",
      "Epoch 5/10\n",
      "\u001b[1m563/563\u001b[0m \u001b[32m━━━━━━━━━━━━━━━━━━━━\u001b[0m\u001b[37m\u001b[0m \u001b[1m12s\u001b[0m 22ms/step - accuracy: 0.9820 - loss: 0.0629 - val_accuracy: 0.9838 - val_loss: 0.0549\n",
      "Epoch 6/10\n",
      "\u001b[1m563/563\u001b[0m \u001b[32m━━━━━━━━━━━━━━━━━━━━\u001b[0m\u001b[37m\u001b[0m \u001b[1m12s\u001b[0m 22ms/step - accuracy: 0.9833 - loss: 0.0528 - val_accuracy: 0.9823 - val_loss: 0.0628\n",
      "Epoch 7/10\n",
      "\u001b[1m563/563\u001b[0m \u001b[32m━━━━━━━━━━━━━━━━━━━━\u001b[0m\u001b[37m\u001b[0m \u001b[1m12s\u001b[0m 21ms/step - accuracy: 0.9840 - loss: 0.0512 - val_accuracy: 0.9858 - val_loss: 0.0494\n",
      "Epoch 8/10\n",
      "\u001b[1m563/563\u001b[0m \u001b[32m━━━━━━━━━━━━━━━━━━━━\u001b[0m\u001b[37m\u001b[0m \u001b[1m12s\u001b[0m 21ms/step - accuracy: 0.9846 - loss: 0.0473 - val_accuracy: 0.9867 - val_loss: 0.0464\n",
      "Epoch 9/10\n",
      "\u001b[1m563/563\u001b[0m \u001b[32m━━━━━━━━━━━━━━━━━━━━\u001b[0m\u001b[37m\u001b[0m \u001b[1m12s\u001b[0m 21ms/step - accuracy: 0.9847 - loss: 0.0482 - val_accuracy: 0.9863 - val_loss: 0.0451\n",
      "Epoch 10/10\n",
      "\u001b[1m563/563\u001b[0m \u001b[32m━━━━━━━━━━━━━━━━━━━━\u001b[0m\u001b[37m\u001b[0m \u001b[1m12s\u001b[0m 21ms/step - accuracy: 0.9864 - loss: 0.0440 - val_accuracy: 0.9857 - val_loss: 0.0479\n",
      "\u001b[1m704/704\u001b[0m \u001b[32m━━━━━━━━━━━━━━━━━━━━\u001b[0m\u001b[37m\u001b[0m \u001b[1m2s\u001b[0m 3ms/step - accuracy: 0.9851 - loss: 0.0549\n",
      "\n",
      "Test Accuracy: 0.9852\n",
      "\u001b[1m704/704\u001b[0m \u001b[32m━━━━━━━━━━━━━━━━━━━━\u001b[0m\u001b[37m\u001b[0m \u001b[1m2s\u001b[0m 2ms/step\n",
      "\n",
      "Classification Report:\n",
      "               precision    recall  f1-score   support\n",
      "\n",
      "           0       0.98      1.00      0.99     15007\n",
      "           1       0.99      0.96      0.98      7509\n",
      "\n",
      "    accuracy                           0.99     22516\n",
      "   macro avg       0.99      0.98      0.98     22516\n",
      "weighted avg       0.99      0.99      0.99     22516\n",
      "\n",
      "Confusion Matrix:\n",
      " [[14938    69]\n",
      " [  264  7245]]\n"
     ]
    },
    {
     "data": {
      "image/png": "[encoded data removed]",
      "text/plain": [
       "<Figure size 640x480 with 1 Axes>"
      ]
     },
     "metadata": {},
     "output_type": "display_data"
    }
   ],
   "source": [
    "\n",
    "# Split data\n",
    "X = np.array(X)  # Ensure it's a NumPy array\n",
    "y = np.array(y)\n",
    "\n",
    "X_train, X_test, y_train, y_test = train_test_split(X, y, test_size=0.2, random_state=42, stratify=y)\n",
    "\n",
    "# Model\n",
    "model = Sequential([\n",
    "    Conv1D(32, 5, activation='relu', input_shape=(180, 1)),\n",
    "    BatchNormalization(),\n",
    "    MaxPooling1D(2),\n",
    "\n",
    "    Conv1D(64, 3, activation='relu'),\n",
    "    BatchNormalization(),\n",
    "    MaxPooling1D(2),\n",
    "\n",
    "    Flatten(),\n",
    "    Dense(64, activation='relu'),\n",
    "    Dropout(0.5),\n",
    "    Dense(1, activation='sigmoid')  # Binary classification\n",
    "])\n",
    "\n",
    "model.compile(optimizer=Adam(learning_rate=0.001),\n",
    "              loss='binary_crossentropy',\n",
    "              metrics=['accuracy'])\n",
    "\n",
    "# Train\n",
    "history = model.fit(X_train, y_train, epochs=10, batch_size=128, validation_split=0.2)\n",
    "\n",
    "# Evaluate\n",
    "loss, acc = model.evaluate(X_test, y_test)\n",
    "print(f\"\\nTest Accuracy: {acc:.4f}\")\n",
    "\n",
    "# Classification report\n",
    "y_pred = (model.predict(X_test) > 0.5).astype(int)\n",
    "print(\"\\nClassification Report:\\n\", classification_report(y_test, y_pred))\n",
    "\n",
    "# Confusion Matrix\n",
    "conf_mat = confusion_matrix(y_test, y_pred)\n",
    "print(\"Confusion Matrix:\\n\", conf_mat)\n",
    "\n",
    "# Plot accuracy and loss\n",
    "plt.plot(history.history['accuracy'], label='Train Acc')\n",
    "plt.plot(history.history['val_accuracy'], label='Val Acc')\n",
    "plt.title('Model Accuracy')\n",
    "plt.xlabel('Epoch')\n",
    "plt.ylabel('Accuracy')\n",
    "plt.legend()\n",
    "plt.show()\n"
   ]
  },
  {
   "cell_type": "code",
   "execution_count": 12,
   "id": "92a8cfbd-6533-423e-a9f6-075f7095269e",
   "metadata": {},
   "outputs": [
    {
     "name": "stderr",
     "output_type": "stream",
     "text": [
      "WARNING:absl:You are saving your model as an HDF5 file via `model.save()` or `keras.saving.save_model(model)`. This file format is considered legacy. We recommend using instead the native Keras format, e.g. `model.save('my_model.keras')` or `keras.saving.save_model(model, 'my_model.keras')`. \n"
     ]
    }
   ],
   "source": [
    "# Save model\n",
    "model.save(\"ecg_cnn_model.h5\")\n"
   ]
  },
  {
   "cell_type": "code",
   "execution_count": 13,
   "id": "fa29d65e-d280-43e1-87c3-ac914fb7068f",
   "metadata": {},
   "outputs": [
    {
     "name": "stdout",
     "output_type": "stream",
     "text": [
      "INFO:tensorflow:Assets written to: /tmp/tmpdg6ryw10/assets\n"
     ]
    },
    {
     "name": "stderr",
     "output_type": "stream",
     "text": [
      "INFO:tensorflow:Assets written to: /tmp/tmpdg6ryw10/assets\n"
     ]
    },
    {
     "name": "stdout",
     "output_type": "stream",
     "text": [
      "Saved artifact at '/tmp/tmpdg6ryw10'. The following endpoints are available:\n",
      "\n",
      "* Endpoint 'serve'\n",
      "  args_0 (POSITIONAL_ONLY): TensorSpec(shape=(None, 180, 1), dtype=tf.float32, name='keras_tensor')\n",
      "Output Type:\n",
      "  TensorSpec(shape=(None, 1), dtype=tf.float32, name=None)\n",
      "Captures:\n",
      "  133276275469552: TensorSpec(shape=(), dtype=tf.resource, name=None)\n",
      "  133276275704048: TensorSpec(shape=(), dtype=tf.resource, name=None)\n",
      "  133276275706160: TensorSpec(shape=(), dtype=tf.resource, name=None)\n",
      "  133276275705280: TensorSpec(shape=(), dtype=tf.resource, name=None)\n",
      "  133276275466560: TensorSpec(shape=(), dtype=tf.resource, name=None)\n",
      "  133276275705456: TensorSpec(shape=(), dtype=tf.resource, name=None)\n",
      "  133276275703872: TensorSpec(shape=(), dtype=tf.resource, name=None)\n",
      "  133276275707568: TensorSpec(shape=(), dtype=tf.resource, name=None)\n",
      "  133276275707920: TensorSpec(shape=(), dtype=tf.resource, name=None)\n",
      "  133276275709504: TensorSpec(shape=(), dtype=tf.resource, name=None)\n",
      "  133276275708096: TensorSpec(shape=(), dtype=tf.resource, name=None)\n",
      "  133276275709856: TensorSpec(shape=(), dtype=tf.resource, name=None)\n",
      "  133276275714080: TensorSpec(shape=(), dtype=tf.resource, name=None)\n",
      "  133276275712144: TensorSpec(shape=(), dtype=tf.resource, name=None)\n",
      "  133276275715840: TensorSpec(shape=(), dtype=tf.resource, name=None)\n",
      "  133276275713200: TensorSpec(shape=(), dtype=tf.resource, name=None)\n"
     ]
    },
    {
     "name": "stderr",
     "output_type": "stream",
     "text": [
      "WARNING: All log messages before absl::InitializeLog() is called are written to STDERR\n",
      "W0000 00:00:1746617863.718478   28727 tf_tfl_flatbuffer_helpers.cc:392] Ignored output_format.\n",
      "W0000 00:00:1746617863.718504   28727 tf_tfl_flatbuffer_helpers.cc:395] Ignored drop_control_dependency.\n",
      "2025-05-07 17:07:43.719291: I tensorflow/cc/saved_model/reader.cc:83] Reading SavedModel from: /tmp/tmpdg6ryw10\n",
      "2025-05-07 17:07:43.720103: I tensorflow/cc/saved_model/reader.cc:52] Reading meta graph with tags { serve }\n",
      "2025-05-07 17:07:43.720113: I tensorflow/cc/saved_model/reader.cc:147] Reading SavedModel debug info (if present) from: /tmp/tmpdg6ryw10\n",
      "2025-05-07 17:07:43.725807: I tensorflow/compiler/mlir/mlir_graph_optimization_pass.cc:388] MLIR V1 optimization pass is not enabled\n",
      "2025-05-07 17:07:43.727573: I tensorflow/cc/saved_model/loader.cc:236] Restoring SavedModel bundle.\n",
      "2025-05-07 17:07:43.766351: I tensorflow/cc/saved_model/loader.cc:220] Running initialization op on SavedModel bundle at path: /tmp/tmpdg6ryw10\n",
      "2025-05-07 17:07:43.778745: I tensorflow/cc/saved_model/loader.cc:462] SavedModel load for tags { serve }; Status: success: OK. Took 59457 microseconds.\n",
      "ash reproducer, set env var `MLIR_CRASH_REPRODUCER_DIRECTORY` to enable.dump_mlir_util.cc:268] disabling MLIR cr\n"
     ]
    }
   ],
   "source": [
    "converter = tf.lite.TFLiteConverter.from_keras_model(model)\n",
    "tflite_model = converter.convert()\n",
    "\n",
    "# Save TFLite model\n",
    "with open(\"ecg_model.tflite\", \"wb\") as f:\n",
    "    f.write(tflite_model)\n"
   ]
  },
  {
   "cell_type": "code",
   "execution_count": 8,
   "id": "e0cf08f4-9fd9-4f1c-ad40-f570f9e16d03",
   "metadata": {},
   "outputs": [
    {
     "name": "stderr",
     "output_type": "stream",
     "text": [
      "2025-06-02 11:23:30.511437: E external/local_xla/xla/stream_executor/cuda/cuda_fft.cc:485] Unable to register cuFFT factory: Attempting to register factory for plugin cuFFT when one has already been registered\n",
      "2025-06-02 11:23:30.543392: E external/local_xla/xla/stream_executor/cuda/cuda_dnn.cc:8454] Unable to register cuDNN factory: Attempting to register factory for plugin cuDNN when one has already been registered\n",
      "2025-06-02 11:23:30.555346: E external/local_xla/xla/stream_executor/cuda/cuda_blas.cc:1452] Unable to register cuBLAS factory: Attempting to register factory for plugin cuBLAS when one has already been registered\n",
      "2025-06-02 11:23:30.673272: I tensorflow/core/platform/cpu_feature_guard.cc:210] This TensorFlow binary is optimized to use available CPU instructions in performance-critical operations.\n",
      "To enable the following instructions: SSE4.1 SSE4.2 AVX AVX2 FMA, in other operations, rebuild TensorFlow with the appropriate compiler flags.\n",
      "/home/sayantan/anaconda3/envs/ml/lib/python3.10/site-packages/keras/src/layers/convolutional/base_conv.py:107: UserWarning: Do not pass an `input_shape`/`input_dim` argument to a layer. When using Sequential models, prefer using an `Input(shape)` object as the first layer in the model instead.\n",
      "  super().__init__(activity_regularizer=activity_regularizer, **kwargs)\n",
      "2025-06-02 11:23:35.841135: E external/local_xla/xla/stream_executor/cuda/cuda_driver.cc:266] failed call to cuInit: CUDA_ERROR_NO_DEVICE: no CUDA-capable device is detected\n",
      "2025-06-02 11:23:36.200228: W external/local_tsl/tsl/framework/cpu_allocator_impl.cc:83] Allocation of 51876000 exceeds 10% of free system memory.\n"
     ]
    },
    {
     "data": {
      "text/html": [
       "<pre style=\"white-space:pre;overflow-x:auto;line-height:normal;font-family:Menlo,'DejaVu Sans Mono',consolas,'Courier New',monospace\"></pre>\n"
      ],
      "text/plain": []
     },
     "metadata": {},
     "output_type": "display_data"
    },
    {
     "name": "stdout",
     "output_type": "stream",
     "text": [
      "Epoch 1/10\n",
      "\u001b[1m562/563\u001b[0m \u001b[32m━━━━━━━━━━━━━━━━━━━\u001b[0m\u001b[37m━\u001b[0m \u001b[1m0s\u001b[0m 20ms/step - accuracy: 0.9220 - loss: 0.2254 "
     ]
    },
    {
     "name": "stderr",
     "output_type": "stream",
     "text": [
      "WARNING:absl:You are saving your model as an HDF5 file via `model.save()` or `keras.saving.save_model(model)`. This file format is considered legacy. We recommend using instead the native Keras format, e.g. `model.save('my_model.keras')` or `keras.saving.save_model(model, 'my_model.keras')`. \n"
     ]
    },
    {
     "name": "stdout",
     "output_type": "stream",
     "text": [
      "\u001b[1m563/563\u001b[0m \u001b[32m━━━━━━━━━━━━━━━━━━━━\u001b[0m\u001b[37m\u001b[0m \u001b[1m14s\u001b[0m 22ms/step - accuracy: 0.9221 - loss: 0.2251 - val_accuracy: 0.9494 - val_loss: 0.1579\n",
      "Epoch 2/10\n",
      "\u001b[1m563/563\u001b[0m \u001b[32m━━━━━━━━━━━━━━━━━━━━\u001b[0m\u001b[37m\u001b[0m \u001b[1m0s\u001b[0m 20ms/step - accuracy: 0.9721 - loss: 0.0910 "
     ]
    },
    {
     "name": "stderr",
     "output_type": "stream",
     "text": [
      "WARNING:absl:You are saving your model as an HDF5 file via `model.save()` or `keras.saving.save_model(model)`. This file format is considered legacy. We recommend using instead the native Keras format, e.g. `model.save('my_model.keras')` or `keras.saving.save_model(model, 'my_model.keras')`. \n"
     ]
    },
    {
     "name": "stdout",
     "output_type": "stream",
     "text": [
      "\u001b[1m563/563\u001b[0m \u001b[32m━━━━━━━━━━━━━━━━━━━━\u001b[0m\u001b[37m\u001b[0m \u001b[1m12s\u001b[0m 22ms/step - accuracy: 0.9721 - loss: 0.0910 - val_accuracy: 0.9807 - val_loss: 0.0635\n",
      "Epoch 3/10\n",
      "\u001b[1m561/563\u001b[0m \u001b[32m━━━━━━━━━━━━━━━━━━━\u001b[0m\u001b[37m━\u001b[0m \u001b[1m0s\u001b[0m 20ms/step - accuracy: 0.9788 - loss: 0.0724 "
     ]
    },
    {
     "name": "stderr",
     "output_type": "stream",
     "text": [
      "WARNING:absl:You are saving your model as an HDF5 file via `model.save()` or `keras.saving.save_model(model)`. This file format is considered legacy. We recommend using instead the native Keras format, e.g. `model.save('my_model.keras')` or `keras.saving.save_model(model, 'my_model.keras')`. \n"
     ]
    },
    {
     "name": "stdout",
     "output_type": "stream",
     "text": [
      "\u001b[1m563/563\u001b[0m \u001b[32m━━━━━━━━━━━━━━━━━━━━\u001b[0m\u001b[37m\u001b[0m \u001b[1m12s\u001b[0m 21ms/step - accuracy: 0.9788 - loss: 0.0724 - val_accuracy: 0.9821 - val_loss: 0.0581\n",
      "Epoch 4/10\n",
      "\u001b[1m561/563\u001b[0m \u001b[32m━━━━━━━━━━━━━━━━━━━\u001b[0m\u001b[37m━\u001b[0m \u001b[1m0s\u001b[0m 20ms/step - accuracy: 0.9813 - loss: 0.0649 "
     ]
    },
    {
     "name": "stderr",
     "output_type": "stream",
     "text": [
      "WARNING:absl:You are saving your model as an HDF5 file via `model.save()` or `keras.saving.save_model(model)`. This file format is considered legacy. We recommend using instead the native Keras format, e.g. `model.save('my_model.keras')` or `keras.saving.save_model(model, 'my_model.keras')`. \n"
     ]
    },
    {
     "name": "stdout",
     "output_type": "stream",
     "text": [
      "\u001b[1m563/563\u001b[0m \u001b[32m━━━━━━━━━━━━━━━━━━━━\u001b[0m\u001b[37m\u001b[0m \u001b[1m12s\u001b[0m 21ms/step - accuracy: 0.9813 - loss: 0.0649 - val_accuracy: 0.9837 - val_loss: 0.0533\n",
      "Epoch 5/10\n",
      "\u001b[1m563/563\u001b[0m \u001b[32m━━━━━━━━━━━━━━━━━━━━\u001b[0m\u001b[37m\u001b[0m \u001b[1m12s\u001b[0m 22ms/step - accuracy: 0.9826 - loss: 0.0619 - val_accuracy: 0.9835 - val_loss: 0.0571\n",
      "Epoch 6/10\n",
      "\u001b[1m563/563\u001b[0m \u001b[32m━━━━━━━━━━━━━━━━━━━━\u001b[0m\u001b[37m\u001b[0m \u001b[1m0s\u001b[0m 20ms/step - accuracy: 0.9833 - loss: 0.0555 "
     ]
    },
    {
     "name": "stderr",
     "output_type": "stream",
     "text": [
      "WARNING:absl:You are saving your model as an HDF5 file via `model.save()` or `keras.saving.save_model(model)`. This file format is considered legacy. We recommend using instead the native Keras format, e.g. `model.save('my_model.keras')` or `keras.saving.save_model(model, 'my_model.keras')`. \n"
     ]
    },
    {
     "name": "stdout",
     "output_type": "stream",
     "text": [
      "\u001b[1m563/563\u001b[0m \u001b[32m━━━━━━━━━━━━━━━━━━━━\u001b[0m\u001b[37m\u001b[0m \u001b[1m12s\u001b[0m 22ms/step - accuracy: 0.9833 - loss: 0.0555 - val_accuracy: 0.9852 - val_loss: 0.0520\n",
      "Epoch 7/10\n",
      "\u001b[1m563/563\u001b[0m \u001b[32m━━━━━━━━━━━━━━━━━━━━\u001b[0m\u001b[37m\u001b[0m \u001b[1m12s\u001b[0m 21ms/step - accuracy: 0.9842 - loss: 0.0497 - val_accuracy: 0.9842 - val_loss: 0.0540\n",
      "Epoch 8/10\n",
      "\u001b[1m563/563\u001b[0m \u001b[32m━━━━━━━━━━━━━━━━━━━━\u001b[0m\u001b[37m\u001b[0m \u001b[1m12s\u001b[0m 21ms/step - accuracy: 0.9850 - loss: 0.0485 - val_accuracy: 0.9838 - val_loss: 0.0553\n",
      "Epoch 9/10\n",
      "\u001b[1m561/563\u001b[0m \u001b[32m━━━━━━━━━━━━━━━━━━━\u001b[0m\u001b[37m━\u001b[0m \u001b[1m0s\u001b[0m 21ms/step - accuracy: 0.9848 - loss: 0.0472 "
     ]
    },
    {
     "name": "stderr",
     "output_type": "stream",
     "text": [
      "WARNING:absl:You are saving your model as an HDF5 file via `model.save()` or `keras.saving.save_model(model)`. This file format is considered legacy. We recommend using instead the native Keras format, e.g. `model.save('my_model.keras')` or `keras.saving.save_model(model, 'my_model.keras')`. \n"
     ]
    },
    {
     "name": "stdout",
     "output_type": "stream",
     "text": [
      "\u001b[1m563/563\u001b[0m \u001b[32m━━━━━━━━━━━━━━━━━━━━\u001b[0m\u001b[37m\u001b[0m \u001b[1m12s\u001b[0m 22ms/step - accuracy: 0.9848 - loss: 0.0472 - val_accuracy: 0.9858 - val_loss: 0.0510\n",
      "Epoch 10/10\n",
      "\u001b[1m562/563\u001b[0m \u001b[32m━━━━━━━━━━━━━━━━━━━\u001b[0m\u001b[37m━\u001b[0m \u001b[1m0s\u001b[0m 20ms/step - accuracy: 0.9869 - loss: 0.0433 "
     ]
    },
    {
     "name": "stderr",
     "output_type": "stream",
     "text": [
      "WARNING:absl:You are saving your model as an HDF5 file via `model.save()` or `keras.saving.save_model(model)`. This file format is considered legacy. We recommend using instead the native Keras format, e.g. `model.save('my_model.keras')` or `keras.saving.save_model(model, 'my_model.keras')`. \n"
     ]
    },
    {
     "name": "stdout",
     "output_type": "stream",
     "text": [
      "\u001b[1m563/563\u001b[0m \u001b[32m━━━━━━━━━━━━━━━━━━━━\u001b[0m\u001b[37m\u001b[0m \u001b[1m12s\u001b[0m 21ms/step - accuracy: 0.9868 - loss: 0.0433 - val_accuracy: 0.9875 - val_loss: 0.0434\n",
      "\u001b[1m1/1\u001b[0m \u001b[32m━━━━━━━━━━━━━━━━━━━━\u001b[0m\u001b[37m\u001b[0m \u001b[1m0s\u001b[0m 85ms/step\n",
      "\n",
      "Test Accuracy: 0.9867\n",
      "\u001b[1m704/704\u001b[0m \u001b[32m━━━━━━━━━━━━━━━━━━━━\u001b[0m\u001b[37m\u001b[0m \u001b[1m1s\u001b[0m 2ms/step\n",
      "🏃 View run colorful-bear-607 at: http://127.0.0.1:5002/#/experiments/0/runs/9b790363fdca4eeea5d04bb68d21bd78\n",
      "🧪 View experiment at: http://127.0.0.1:5002/#/experiments/0\n"
     ]
    }
   ],
   "source": [
    "import tensorflow as tf\n",
    "from tensorflow.keras.models import Sequential\n",
    "from tensorflow.keras.layers import Conv1D, MaxPooling1D, Flatten, Dense, Dropout, BatchNormalization\n",
    "from tensorflow.keras.optimizers import Adam\n",
    "from sklearn.model_selection import train_test_split\n",
    "from sklearn.metrics import classification_report, confusion_matrix\n",
    "import matplotlib.pyplot as plt\n",
    "import numpy as np\n",
    "import mlflow\n",
    "import mlflow.tensorflow\n",
    "import os\n",
    "\n",
    "mlflow.set_tracking_uri(\"http://127.0.0.1:5002/\")\n",
    "# Enable MLflow auto-logging\n",
    "mlflow.tensorflow.autolog()\n",
    "\n",
    "# Data preparation\n",
    "X = np.array(X)\n",
    "y = np.array(y)\n",
    "\n",
    "X_train, X_test, y_train, y_test = train_test_split(\n",
    "    X, y, test_size=0.2, random_state=42, stratify=y\n",
    ")\n",
    "\n",
    "# Model parameters\n",
    "EPOCHS = 10\n",
    "BATCH_SIZE = 128\n",
    "LEARNING_RATE = 0.001\n",
    "\n",
    "with mlflow.start_run():\n",
    "    # Model\n",
    "    model = Sequential([\n",
    "        Conv1D(32, 5, activation='relu', input_shape=(180, 1)),\n",
    "        BatchNormalization(),\n",
    "        MaxPooling1D(2),\n",
    "\n",
    "        Conv1D(64, 3, activation='relu'),\n",
    "        BatchNormalization(),\n",
    "        MaxPooling1D(2),\n",
    "\n",
    "        Flatten(),\n",
    "        Dense(64, activation='relu'),\n",
    "        Dropout(0.5),\n",
    "        Dense(1, activation='sigmoid')\n",
    "    ])\n",
    "\n",
    "    model.compile(\n",
    "        optimizer=Adam(learning_rate=LEARNING_RATE),\n",
    "        loss='binary_crossentropy',\n",
    "        metrics=['accuracy']\n",
    "    )\n",
    "\n",
    "    # Log hyperparameters manually\n",
    "    mlflow.log_param(\"epochs\", EPOCHS)\n",
    "    mlflow.log_param(\"batch_size\", BATCH_SIZE)\n",
    "    mlflow.log_param(\"learning_rate\", LEARNING_RATE)\n",
    "\n",
    "    # Train\n",
    "    history = model.fit(\n",
    "        X_train, y_train,\n",
    "        epochs=EPOCHS,\n",
    "        batch_size=BATCH_SIZE,\n",
    "        validation_split=0.2,\n",
    "        verbose=1\n",
    "    )\n",
    "\n",
    "    # Evaluate\n",
    "    loss, acc = model.evaluate(X_test, y_test, verbose=0)\n",
    "    mlflow.log_metric(\"test_loss\", loss)\n",
    "    mlflow.log_metric(\"test_accuracy\", acc)\n",
    "    print(f\"\\nTest Accuracy: {acc:.4f}\")\n",
    "\n",
    "    # Predictions\n",
    "    y_pred = (model.predict(X_test) > 0.5).astype(int)\n",
    "\n",
    "    # Classification report\n",
    "    report = classification_report(y_test, y_pred, output_dict=True)\n",
    "    report_path = \"classification_report.txt\"\n",
    "    with open(report_path, \"w\") as f:\n",
    "        f.write(classification_report(y_test, y_pred))\n",
    "    mlflow.log_artifact(report_path)\n",
    "\n",
    "    # Confusion matrix\n",
    "    conf_mat = confusion_matrix(y_test, y_pred)\n",
    "    conf_mat_path = \"confusion_matrix.txt\"\n",
    "    with open(conf_mat_path, \"w\") as f:\n",
    "        f.write(np.array2string(conf_mat))\n",
    "    mlflow.log_artifact(conf_mat_path)\n",
    "\n",
    "    # Plot accuracy\n",
    "    plt.figure()\n",
    "    plt.plot(history.history['accuracy'], label='Train Acc')\n",
    "    plt.plot(history.history['val_accuracy'], label='Val Acc')\n",
    "    plt.title('Model Accuracy')\n",
    "    plt.xlabel('Epoch')\n",
    "    plt.ylabel('Accuracy')\n",
    "    plt.legend()\n",
    "    plt.savefig(\"accuracy_plot.png\")\n",
    "    mlflow.log_artifact(\"accuracy_plot.png\")\n",
    "    plt.close()\n"
   ]
  },
  {
   "cell_type": "code",
   "execution_count": 9,
   "id": "c689dc99-1dac-4f60-9bb5-f6d3dd6b07ce",
   "metadata": {},
   "outputs": [
    {
     "name": "stderr",
     "output_type": "stream",
     "text": [
      "/home/sayantan/anaconda3/envs/ml/lib/python3.10/site-packages/keras/src/layers/rnn/rnn.py:200: UserWarning: Do not pass an `input_shape`/`input_dim` argument to a layer. When using Sequential models, prefer using an `Input(shape)` object as the first layer in the model instead.\n",
      "  super().__init__(**kwargs)\n",
      "2025-06-02 11:29:08.506511: W external/local_tsl/tsl/framework/cpu_allocator_impl.cc:83] Allocation of 51876000 exceeds 10% of free system memory.\n"
     ]
    },
    {
     "data": {
      "text/html": [
       "<pre style=\"white-space:pre;overflow-x:auto;line-height:normal;font-family:Menlo,'DejaVu Sans Mono',consolas,'Courier New',monospace\"></pre>\n"
      ],
      "text/plain": []
     },
     "metadata": {},
     "output_type": "display_data"
    },
    {
     "name": "stdout",
     "output_type": "stream",
     "text": [
      "Epoch 1/10\n",
      "\u001b[1m563/563\u001b[0m \u001b[32m━━━━━━━━━━━━━━━━━━━━\u001b[0m\u001b[37m\u001b[0m \u001b[1m0s\u001b[0m 151ms/step - accuracy: 0.7005 - loss: 0.5980  "
     ]
    },
    {
     "name": "stderr",
     "output_type": "stream",
     "text": [
      "WARNING:absl:You are saving your model as an HDF5 file via `model.save()` or `keras.saving.save_model(model)`. This file format is considered legacy. We recommend using instead the native Keras format, e.g. `model.save('my_model.keras')` or `keras.saving.save_model(model, 'my_model.keras')`. \n"
     ]
    },
    {
     "name": "stdout",
     "output_type": "stream",
     "text": [
      "\u001b[1m563/563\u001b[0m \u001b[32m━━━━━━━━━━━━━━━━━━━━\u001b[0m\u001b[37m\u001b[0m \u001b[1m96s\u001b[0m 168ms/step - accuracy: 0.7005 - loss: 0.5980 - val_accuracy: 0.7188 - val_loss: 0.5852\n",
      "Epoch 2/10\n",
      "\u001b[1m563/563\u001b[0m \u001b[32m━━━━━━━━━━━━━━━━━━━━\u001b[0m\u001b[37m\u001b[0m \u001b[1m0s\u001b[0m 157ms/step - accuracy: 0.7557 - loss: 0.5254  "
     ]
    },
    {
     "name": "stderr",
     "output_type": "stream",
     "text": [
      "WARNING:absl:You are saving your model as an HDF5 file via `model.save()` or `keras.saving.save_model(model)`. This file format is considered legacy. We recommend using instead the native Keras format, e.g. `model.save('my_model.keras')` or `keras.saving.save_model(model, 'my_model.keras')`. \n"
     ]
    },
    {
     "name": "stdout",
     "output_type": "stream",
     "text": [
      "\u001b[1m563/563\u001b[0m \u001b[32m━━━━━━━━━━━━━━━━━━━━\u001b[0m\u001b[37m\u001b[0m \u001b[1m100s\u001b[0m 177ms/step - accuracy: 0.7558 - loss: 0.5254 - val_accuracy: 0.8684 - val_loss: 0.3544\n",
      "Epoch 3/10\n",
      "\u001b[1m563/563\u001b[0m \u001b[32m━━━━━━━━━━━━━━━━━━━━\u001b[0m\u001b[37m\u001b[0m \u001b[1m99s\u001b[0m 176ms/step - accuracy: 0.8056 - loss: 0.4506 - val_accuracy: 0.8467 - val_loss: 0.3962\n",
      "Epoch 4/10\n",
      "\u001b[1m563/563\u001b[0m \u001b[32m━━━━━━━━━━━━━━━━━━━━\u001b[0m\u001b[37m\u001b[0m \u001b[1m0s\u001b[0m 158ms/step - accuracy: 0.8349 - loss: 0.4000  "
     ]
    },
    {
     "name": "stderr",
     "output_type": "stream",
     "text": [
      "WARNING:absl:You are saving your model as an HDF5 file via `model.save()` or `keras.saving.save_model(model)`. This file format is considered legacy. We recommend using instead the native Keras format, e.g. `model.save('my_model.keras')` or `keras.saving.save_model(model, 'my_model.keras')`. \n"
     ]
    },
    {
     "name": "stdout",
     "output_type": "stream",
     "text": [
      "\u001b[1m563/563\u001b[0m \u001b[32m━━━━━━━━━━━━━━━━━━━━\u001b[0m\u001b[37m\u001b[0m \u001b[1m98s\u001b[0m 174ms/step - accuracy: 0.8349 - loss: 0.3999 - val_accuracy: 0.8953 - val_loss: 0.2858\n",
      "Epoch 5/10\n",
      "\u001b[1m563/563\u001b[0m \u001b[32m━━━━━━━━━━━━━━━━━━━━\u001b[0m\u001b[37m\u001b[0m \u001b[1m100s\u001b[0m 178ms/step - accuracy: 0.8751 - loss: 0.3177 - val_accuracy: 0.8858 - val_loss: 0.2987\n",
      "Epoch 6/10\n",
      "\u001b[1m563/563\u001b[0m \u001b[32m━━━━━━━━━━━━━━━━━━━━\u001b[0m\u001b[37m\u001b[0m \u001b[1m0s\u001b[0m 162ms/step - accuracy: 0.8534 - loss: 0.3720  "
     ]
    },
    {
     "name": "stderr",
     "output_type": "stream",
     "text": [
      "WARNING:absl:You are saving your model as an HDF5 file via `model.save()` or `keras.saving.save_model(model)`. This file format is considered legacy. We recommend using instead the native Keras format, e.g. `model.save('my_model.keras')` or `keras.saving.save_model(model, 'my_model.keras')`. \n"
     ]
    },
    {
     "name": "stdout",
     "output_type": "stream",
     "text": [
      "\u001b[1m563/563\u001b[0m \u001b[32m━━━━━━━━━━━━━━━━━━━━\u001b[0m\u001b[37m\u001b[0m \u001b[1m100s\u001b[0m 178ms/step - accuracy: 0.8534 - loss: 0.3720 - val_accuracy: 0.8933 - val_loss: 0.2834\n",
      "Epoch 7/10\n",
      "\u001b[1m563/563\u001b[0m \u001b[32m━━━━━━━━━━━━━━━━━━━━\u001b[0m\u001b[37m\u001b[0m \u001b[1m97s\u001b[0m 173ms/step - accuracy: 0.7551 - loss: 0.5665 - val_accuracy: 0.8283 - val_loss: 0.4386\n",
      "Epoch 8/10\n",
      "\u001b[1m563/563\u001b[0m \u001b[32m━━━━━━━━━━━━━━━━━━━━\u001b[0m\u001b[37m\u001b[0m \u001b[1m99s\u001b[0m 176ms/step - accuracy: 0.8251 - loss: 0.4390 - val_accuracy: 0.8126 - val_loss: 0.4125\n",
      "Epoch 9/10\n",
      "\u001b[1m563/563\u001b[0m \u001b[32m━━━━━━━━━━━━━━━━━━━━\u001b[0m\u001b[37m\u001b[0m \u001b[1m101s\u001b[0m 180ms/step - accuracy: 0.7893 - loss: 0.4902 - val_accuracy: 0.7276 - val_loss: 0.5714\n",
      "Epoch 10/10\n",
      "\u001b[1m563/563\u001b[0m \u001b[32m━━━━━━━━━━━━━━━━━━━━\u001b[0m\u001b[37m\u001b[0m \u001b[1m99s\u001b[0m 176ms/step - accuracy: 0.7963 - loss: 0.4819 - val_accuracy: 0.8509 - val_loss: 0.3921\n",
      "\u001b[1m1/1\u001b[0m \u001b[32m━━━━━━━━━━━━━━━━━━━━\u001b[0m\u001b[37m\u001b[0m \u001b[1m0s\u001b[0m 200ms/step\n",
      "\n",
      "Test Accuracy: 0.8487\n",
      "\u001b[1m704/704\u001b[0m \u001b[32m━━━━━━━━━━━━━━━━━━━━\u001b[0m\u001b[37m\u001b[0m \u001b[1m17s\u001b[0m 24ms/step\n",
      "🏃 View run LSTM_ECG_Model at: http://127.0.0.1:5002/#/experiments/0/runs/ac9174678c064a7cb1b5a2feb6b643e1\n",
      "🧪 View experiment at: http://127.0.0.1:5002/#/experiments/0\n"
     ]
    }
   ],
   "source": [
    "import tensorflow as tf\n",
    "from tensorflow.keras.models import Sequential\n",
    "from tensorflow.keras.layers import LSTM, Dense, Dropout\n",
    "from tensorflow.keras.optimizers import Adam\n",
    "from sklearn.model_selection import train_test_split\n",
    "from sklearn.metrics import classification_report, confusion_matrix\n",
    "import matplotlib.pyplot as plt\n",
    "import numpy as np\n",
    "import mlflow\n",
    "import mlflow.tensorflow\n",
    "import os\n",
    "\n",
    "# Set your MLflow tracking server\n",
    "mlflow.set_tracking_uri(\"http://127.0.0.1:5002/\")\n",
    "mlflow.tensorflow.autolog()\n",
    "\n",
    "# Data\n",
    "X = np.array(X)\n",
    "y = np.array(y)\n",
    "\n",
    "X_train, X_test, y_train, y_test = train_test_split(\n",
    "    X, y, test_size=0.2, random_state=42, stratify=y\n",
    ")\n",
    "\n",
    "# Hyperparameters\n",
    "EPOCHS = 10\n",
    "BATCH_SIZE = 128\n",
    "LEARNING_RATE = 0.001\n",
    "\n",
    "with mlflow.start_run(run_name=\"LSTM_ECG_Model\"):\n",
    "    # Model\n",
    "    model = Sequential([\n",
    "        LSTM(64, return_sequences=True, input_shape=(180, 1)),\n",
    "        Dropout(0.2),\n",
    "        LSTM(32),\n",
    "        Dropout(0.2),\n",
    "        Dense(1, activation='sigmoid')\n",
    "    ])\n",
    "\n",
    "    model.compile(\n",
    "        optimizer=Adam(learning_rate=LEARNING_RATE),\n",
    "        loss='binary_crossentropy',\n",
    "        metrics=['accuracy']\n",
    "    )\n",
    "\n",
    "    # Log parameters\n",
    "    mlflow.log_param(\"model_type\", \"LSTM\")\n",
    "    mlflow.log_param(\"epochs\", EPOCHS)\n",
    "    mlflow.log_param(\"batch_size\", BATCH_SIZE)\n",
    "    mlflow.log_param(\"learning_rate\", LEARNING_RATE)\n",
    "\n",
    "    # Train\n",
    "    history = model.fit(\n",
    "        X_train, y_train,\n",
    "        epochs=EPOCHS,\n",
    "        batch_size=BATCH_SIZE,\n",
    "        validation_split=0.2,\n",
    "        verbose=1\n",
    "    )\n",
    "\n",
    "    # Evaluate\n",
    "    loss, acc = model.evaluate(X_test, y_test, verbose=0)\n",
    "    mlflow.log_metric(\"test_loss\", loss)\n",
    "    mlflow.log_metric(\"test_accuracy\", acc)\n",
    "    print(f\"\\nTest Accuracy: {acc:.4f}\")\n",
    "\n",
    "    # Predictions\n",
    "    y_pred = (model.predict(X_test) > 0.5).astype(int)\n",
    "\n",
    "    # Classification report\n",
    "    report = classification_report(y_test, y_pred, output_dict=True)\n",
    "    report_path = \"classification_report_lstm.txt\"\n",
    "    with open(report_path, \"w\") as f:\n",
    "        f.write(classification_report(y_test, y_pred))\n",
    "    mlflow.log_artifact(report_path)\n",
    "\n",
    "    # Confusion matrix\n",
    "    conf_mat = confusion_matrix(y_test, y_pred)\n",
    "    conf_mat_path = \"confusion_matrix_lstm.txt\"\n",
    "    with open(conf_mat_path, \"w\") as f:\n",
    "        f.write(np.array2string(conf_mat))\n",
    "    mlflow.log_artifact(conf_mat_path)\n",
    "\n",
    "    # Accuracy Plot\n",
    "    plt.figure()\n",
    "    plt.plot(history.history['accuracy'], label='Train Acc')\n",
    "    plt.plot(history.history['val_accuracy'], label='Val Acc')\n",
    "    plt.title('LSTM Model Accuracy')\n",
    "    plt.xlabel('Epoch')\n",
    "    plt.ylabel('Accuracy')\n",
    "    plt.legend()\n",
    "    plt.savefig(\"lstm_accuracy_plot.png\")\n",
    "    mlflow.log_artifact(\"lstm_accuracy_plot.png\")\n",
    "    plt.close()\n"
   ]
  },
  {
   "cell_type": "code",
   "execution_count": 10,
   "id": "4c722633-09d0-4f19-b375-a024c3ae3270",
   "metadata": {},
   "outputs": [
    {
     "name": "stderr",
     "output_type": "stream",
     "text": [
      "/home/sayantan/anaconda3/envs/ml/lib/python3.10/site-packages/keras/src/layers/convolutional/base_conv.py:107: UserWarning: Do not pass an `input_shape`/`input_dim` argument to a layer. When using Sequential models, prefer using an `Input(shape)` object as the first layer in the model instead.\n",
      "  super().__init__(activity_regularizer=activity_regularizer, **kwargs)\n",
      "2025-06-02 12:11:43.352872: W external/local_tsl/tsl/framework/cpu_allocator_impl.cc:83] Allocation of 50250960 exceeds 10% of free system memory.\n"
     ]
    },
    {
     "data": {
      "text/html": [
       "<pre style=\"white-space:pre;overflow-x:auto;line-height:normal;font-family:Menlo,'DejaVu Sans Mono',consolas,'Courier New',monospace\"></pre>\n"
      ],
      "text/plain": []
     },
     "metadata": {},
     "output_type": "display_data"
    },
    {
     "name": "stdout",
     "output_type": "stream",
     "text": [
      "Epoch 1/10\n",
      "\u001b[1m546/546\u001b[0m \u001b[32m━━━━━━━━━━━━━━━━━━━━\u001b[0m\u001b[37m\u001b[0m \u001b[1m0s\u001b[0m 20ms/step - accuracy: 0.9301 - loss: 0.2110 "
     ]
    },
    {
     "name": "stderr",
     "output_type": "stream",
     "text": [
      "WARNING:absl:You are saving your model as an HDF5 file via `model.save()` or `keras.saving.save_model(model)`. This file format is considered legacy. We recommend using instead the native Keras format, e.g. `model.save('my_model.keras')` or `keras.saving.save_model(model, 'my_model.keras')`. \n"
     ]
    },
    {
     "name": "stdout",
     "output_type": "stream",
     "text": [
      "\u001b[1m546/546\u001b[0m \u001b[32m━━━━━━━━━━━━━━━━━━━━\u001b[0m\u001b[37m\u001b[0m \u001b[1m13s\u001b[0m 21ms/step - accuracy: 0.9301 - loss: 0.2109 - val_accuracy: 0.8323 - val_loss: 0.6387\n",
      "Epoch 2/10\n",
      "\u001b[1m546/546\u001b[0m \u001b[32m━━━━━━━━━━━━━━━━━━━━\u001b[0m\u001b[37m\u001b[0m \u001b[1m12s\u001b[0m 22ms/step - accuracy: 0.9750 - loss: 0.0791 - val_accuracy: 0.7839 - val_loss: 0.6524\n",
      "Epoch 3/10\n",
      "\u001b[1m545/546\u001b[0m \u001b[32m━━━━━━━━━━━━━━━━━━━\u001b[0m\u001b[37m━\u001b[0m \u001b[1m0s\u001b[0m 21ms/step - accuracy: 0.9791 - loss: 0.0707 "
     ]
    },
    {
     "name": "stderr",
     "output_type": "stream",
     "text": [
      "WARNING:absl:You are saving your model as an HDF5 file via `model.save()` or `keras.saving.save_model(model)`. This file format is considered legacy. We recommend using instead the native Keras format, e.g. `model.save('my_model.keras')` or `keras.saving.save_model(model, 'my_model.keras')`. \n"
     ]
    },
    {
     "name": "stdout",
     "output_type": "stream",
     "text": [
      "\u001b[1m546/546\u001b[0m \u001b[32m━━━━━━━━━━━━━━━━━━━━\u001b[0m\u001b[37m\u001b[0m \u001b[1m12s\u001b[0m 22ms/step - accuracy: 0.9791 - loss: 0.0707 - val_accuracy: 0.8234 - val_loss: 0.5208\n",
      "Epoch 4/10\n",
      "\u001b[1m546/546\u001b[0m \u001b[32m━━━━━━━━━━━━━━━━━━━━\u001b[0m\u001b[37m\u001b[0m \u001b[1m12s\u001b[0m 21ms/step - accuracy: 0.9821 - loss: 0.0591 - val_accuracy: 0.7901 - val_loss: 0.7227\n",
      "Epoch 5/10\n",
      "\u001b[1m544/546\u001b[0m \u001b[32m━━━━━━━━━━━━━━━━━━━\u001b[0m\u001b[37m━\u001b[0m \u001b[1m0s\u001b[0m 20ms/step - accuracy: 0.9825 - loss: 0.0554 "
     ]
    },
    {
     "name": "stderr",
     "output_type": "stream",
     "text": [
      "WARNING:absl:You are saving your model as an HDF5 file via `model.save()` or `keras.saving.save_model(model)`. This file format is considered legacy. We recommend using instead the native Keras format, e.g. `model.save('my_model.keras')` or `keras.saving.save_model(model, 'my_model.keras')`. \n"
     ]
    },
    {
     "name": "stdout",
     "output_type": "stream",
     "text": [
      "\u001b[1m546/546\u001b[0m \u001b[32m━━━━━━━━━━━━━━━━━━━━\u001b[0m\u001b[37m\u001b[0m \u001b[1m12s\u001b[0m 22ms/step - accuracy: 0.9825 - loss: 0.0554 - val_accuracy: 0.7837 - val_loss: 0.4837\n",
      "Epoch 6/10\n",
      "\u001b[1m546/546\u001b[0m \u001b[32m━━━━━━━━━━━━━━━━━━━━\u001b[0m\u001b[37m\u001b[0m \u001b[1m12s\u001b[0m 22ms/step - accuracy: 0.9834 - loss: 0.0510 - val_accuracy: 0.7711 - val_loss: 0.6932\n",
      "Epoch 7/10\n",
      "\u001b[1m546/546\u001b[0m \u001b[32m━━━━━━━━━━━━━━━━━━━━\u001b[0m\u001b[37m\u001b[0m \u001b[1m12s\u001b[0m 22ms/step - accuracy: 0.9852 - loss: 0.0462 - val_accuracy: 0.7760 - val_loss: 0.4941\n",
      "Epoch 8/10\n",
      "\u001b[1m546/546\u001b[0m \u001b[32m━━━━━━━━━━━━━━━━━━━━\u001b[0m\u001b[37m\u001b[0m \u001b[1m12s\u001b[0m 21ms/step - accuracy: 0.9847 - loss: 0.0480 - val_accuracy: 0.7684 - val_loss: 0.7458\n",
      "Epoch 9/10\n",
      "\u001b[1m546/546\u001b[0m \u001b[32m━━━━━━━━━━━━━━━━━━━━\u001b[0m\u001b[37m\u001b[0m \u001b[1m12s\u001b[0m 22ms/step - accuracy: 0.9860 - loss: 0.0428 - val_accuracy: 0.7579 - val_loss: 0.7378\n",
      "Epoch 10/10\n",
      "\u001b[1m545/546\u001b[0m \u001b[32m━━━━━━━━━━━━━━━━━━━\u001b[0m\u001b[37m━\u001b[0m \u001b[1m0s\u001b[0m 21ms/step - accuracy: 0.9866 - loss: 0.0419 "
     ]
    },
    {
     "name": "stderr",
     "output_type": "stream",
     "text": [
      "WARNING:absl:You are saving your model as an HDF5 file via `model.save()` or `keras.saving.save_model(model)`. This file format is considered legacy. We recommend using instead the native Keras format, e.g. `model.save('my_model.keras')` or `keras.saving.save_model(model, 'my_model.keras')`. \n"
     ]
    },
    {
     "name": "stdout",
     "output_type": "stream",
     "text": [
      "\u001b[1m546/546\u001b[0m \u001b[32m━━━━━━━━━━━━━━━━━━━━\u001b[0m\u001b[37m\u001b[0m \u001b[1m12s\u001b[0m 22ms/step - accuracy: 0.9866 - loss: 0.0420 - val_accuracy: 0.8088 - val_loss: 0.4476\n",
      "\u001b[1m1/1\u001b[0m \u001b[32m━━━━━━━━━━━━━━━━━━━━\u001b[0m\u001b[37m\u001b[0m \u001b[1m0s\u001b[0m 85ms/step\n",
      "\u001b[1m615/615\u001b[0m \u001b[32m━━━━━━━━━━━━━━━━━━━━\u001b[0m\u001b[37m\u001b[0m \u001b[1m1s\u001b[0m 2ms/step\n",
      "🏃 View run CNN_ECG_3way at: http://127.0.0.1:5002/#/experiments/0/runs/fbd68966865241098cf2bb66a47c1506\n",
      "🧪 View experiment at: http://127.0.0.1:5002/#/experiments/0\n"
     ]
    }
   ],
   "source": [
    "import os\n",
    "import numpy as np\n",
    "import wfdb\n",
    "import tensorflow as tf\n",
    "from tensorflow.keras.models import Sequential\n",
    "from tensorflow.keras.layers import Conv1D, MaxPooling1D, Flatten, Dense, Dropout, BatchNormalization\n",
    "from tensorflow.keras.optimizers import Adam\n",
    "from sklearn.metrics import classification_report, confusion_matrix\n",
    "import matplotlib.pyplot as plt\n",
    "import mlflow\n",
    "import mlflow.tensorflow\n",
    "\n",
    "# --- Configuration ---\n",
    "data_path = \"mitbih\"  # Replace with your actual path\n",
    "mlflow.set_tracking_uri(\"http://127.0.0.1:5002/\")\n",
    "mlflow.tensorflow.autolog()\n",
    "\n",
    "# --- Record List ---\n",
    "record_ids = ['100', '101', '102', '103', '104', '105', '106', '107', '108', '109', '111', '112', '113', '114', '115',\n",
    "              '116', '117', '118', '119', '121', '122', '123', '124', '200', '201', '202', '203', '205', '207', '208',\n",
    "              '209', '210', '212', '213', '214', '215', '217', '219', '220', '221', '222', '223', '228', '230', '231',\n",
    "              '232', '233', '234']\n",
    "\n",
    "# --- Data Loading ---\n",
    "X = []\n",
    "y = []\n",
    "sample_record_ids = []\n",
    "\n",
    "for rec_id in record_ids:\n",
    "    try:\n",
    "        record = wfdb.rdrecord(os.path.join(data_path, rec_id))\n",
    "        annotation = wfdb.rdann(os.path.join(data_path, rec_id), 'atr')\n",
    "\n",
    "        signal = record.p_signal[:, 0]  # Lead I\n",
    "        ann_samples = annotation.sample\n",
    "        ann_symbols = annotation.symbol\n",
    "\n",
    "        for i, sample in enumerate(ann_samples):\n",
    "            if sample - 90 < 0 or sample + 90 > len(signal):\n",
    "                continue\n",
    "            beat_segment = signal[sample - 90: sample + 90]\n",
    "            label = 0 if ann_symbols[i] == 'N' else 1\n",
    "\n",
    "            X.append(beat_segment)\n",
    "            y.append(label)\n",
    "            sample_record_ids.append(rec_id)\n",
    "\n",
    "    except Exception as e:\n",
    "        print(f\"Skipping record {rec_id}: {e}\")\n",
    "\n",
    "X = np.array(X).reshape(-1, 180, 1)\n",
    "y = np.array(y)\n",
    "sample_record_ids = np.array(sample_record_ids)\n",
    "\n",
    "# --- Convert record ID to index (0 to 47) ---\n",
    "record_id_to_index = {rec: idx for idx, rec in enumerate(record_ids)}\n",
    "sample_record_indices = np.array([record_id_to_index[rid] for rid in sample_record_ids])\n",
    "\n",
    "# --- Train/Val/Test Split (60/20/20) ---\n",
    "np.random.seed(42)\n",
    "all_indices = np.arange(len(record_ids))\n",
    "np.random.shuffle(all_indices)\n",
    "train_ids = all_indices[:29]\n",
    "val_ids = all_indices[29:39]\n",
    "test_ids = all_indices[39:]\n",
    "\n",
    "X_train = X[np.isin(sample_record_indices, train_ids)]\n",
    "y_train = y[np.isin(sample_record_indices, train_ids)]\n",
    "\n",
    "X_val = X[np.isin(sample_record_indices, val_ids)]\n",
    "y_val = y[np.isin(sample_record_indices, val_ids)]\n",
    "\n",
    "X_test = X[np.isin(sample_record_indices, test_ids)]\n",
    "y_test = y[np.isin(sample_record_indices, test_ids)]\n",
    "\n",
    "# --- CNN Training with MLflow ---\n",
    "with mlflow.start_run(run_name=\"CNN_ECG_3way\"):\n",
    "    mlflow.log_param(\"train_records\", len(train_ids))\n",
    "    mlflow.log_param(\"val_records\", len(val_ids))\n",
    "    mlflow.log_param(\"test_records\", len(test_ids))\n",
    "\n",
    "    model = Sequential([\n",
    "        Conv1D(32, 5, activation='relu', input_shape=(180, 1)),\n",
    "        BatchNormalization(),\n",
    "        MaxPooling1D(2),\n",
    "\n",
    "        Conv1D(64, 3, activation='relu'),\n",
    "        BatchNormalization(),\n",
    "        MaxPooling1D(2),\n",
    "\n",
    "        Flatten(),\n",
    "        Dense(64, activation='relu'),\n",
    "        Dropout(0.5),\n",
    "        Dense(1, activation='sigmoid')\n",
    "    ])\n",
    "\n",
    "    model.compile(optimizer=Adam(learning_rate=0.001),\n",
    "                  loss='binary_crossentropy',\n",
    "                  metrics=['accuracy'])\n",
    "\n",
    "    mlflow.log_param(\"model_type\", \"CNN\")\n",
    "    mlflow.log_param(\"learning_rate\", 0.001)\n",
    "    mlflow.log_param(\"epochs\", 10)\n",
    "    mlflow.log_param(\"batch_size\", 128)\n",
    "\n",
    "    history = model.fit(X_train, y_train,\n",
    "                        epochs=10,\n",
    "                        batch_size=128,\n",
    "                        validation_data=(X_val, y_val),\n",
    "                        verbose=1)\n",
    "\n",
    "    test_loss, test_accuracy = model.evaluate(X_test, y_test, verbose=0)\n",
    "    mlflow.log_metric(\"test_loss\", test_loss)\n",
    "    mlflow.log_metric(\"test_accuracy\", test_accuracy)\n",
    "\n",
    "    y_pred = (model.predict(X_test) > 0.5).astype(int)\n",
    "\n",
    "    # Classification Report\n",
    "    report = classification_report(y_test, y_pred)\n",
    "    with open(\"cnn_classification_report.txt\", \"w\") as f:\n",
    "        f.write(report)\n",
    "    mlflow.log_artifact(\"cnn_classification_report.txt\")\n",
    "\n",
    "    # Confusion Matrix\n",
    "    conf_mat = confusion_matrix(y_test, y_pred)\n",
    "    with open(\"cnn_confusion_matrix.txt\", \"w\") as f:\n",
    "        f.write(np.array2string(conf_mat))\n",
    "    mlflow.log_artifact(\"cnn_confusion_matrix.txt\")\n",
    "\n",
    "    # Plot Accuracy\n",
    "    plt.figure()\n",
    "    plt.plot(history.history['accuracy'], label='Train Acc')\n",
    "    plt.plot(history.history['val_accuracy'], label='Val Acc')\n",
    "    plt.title('CNN Accuracy')\n",
    "    plt.xlabel('Epoch')\n",
    "    plt.ylabel('Accuracy')\n",
    "    plt.legend()\n",
    "    plt.savefig(\"cnn_accuracy_plot.png\")\n",
    "    mlflow.log_artifact(\"cnn_accuracy_plot.png\")\n",
    "    plt.close()\n"
   ]
  },
  {
   "cell_type": "code",
   "execution_count": null,
   "id": "84cc6e99-d033-43b2-b969-af5a2c89c60b",
   "metadata": {},
   "outputs": [],
   "source": []
  }
 ],
 "metadata": {
  "kernelspec": {
   "display_name": "Python 3 (ipykernel)",
   "language": "python",
   "name": "python3"
  },
  "language_info": {
   "codemirror_mode": {
    "name": "ipython",
    "version": 3
   },
   "file_extension": ".py",
   "mimetype": "text/x-python",
   "name": "python",
   "nbconvert_exporter": "python",
   "pygments_lexer": "ipython3",
   "version": "3.10.16"
  }
 },
 "nbformat": 4,
 "nbformat_minor": 5
}
